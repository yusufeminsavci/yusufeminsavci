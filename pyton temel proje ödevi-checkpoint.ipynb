{
 "cells": [
  {
   "cell_type": "code",
   "execution_count": 1,
   "id": "62dda380",
   "metadata": {},
   "outputs": [
    {
     "name": "stdout",
     "output_type": "stream",
     "text": [
      "[1, 'a', 'cat', 2, 3, 'dog', 4, 5]\n",
      "[[7, 6, 5], [4, 3], [2, 1]]\n"
     ]
    }
   ],
   "source": [
    "''' 1- Bir listeyi düzleştiren (flatten) fonksiyon yazın.\n",
    "Elemanları birden çok katmanlı listelerden ([[3],2] gibi) oluşabileceği gibi, non-scalar verilerden de oluşabilir.\n",
    "Örnek olarak:\n",
    "input: [[1,'a',['cat'],2],[[[3]],'dog'],4,5]\n",
    "output: [1,'a','cat',2,3,'dog',4,5]'''\n",
    "li=[]\n",
    "def flatten(n):\n",
    "     for i in n:\n",
    "         if isinstance(i,list):#Kontrol ediyor liste mi diye\n",
    "          flatten(i)\n",
    "         else:\n",
    "          li.append(i)#Eğer liste değilse boş olan li elemanına ekliyor\n",
    "\n",
    "\n",
    "liste=[[1,'a',['cat'],2],[[[3]],'dog'],4,5]\n",
    "flatten(liste)\n",
    "print(li)\n",
    "\n",
    "''' 2- Verilen listenin içindeki elemanları tersine döndüren bir fonksiyon yazın. \n",
    "Eğer listenin içindeki elemanlar da liste içeriyorsa onların elemanlarını da tersine döndürün. \n",
    "Örnek olarak:\n",
    "input: [[1, 2], [3, 4], [5, 6, 7]]\n",
    "output: [[[7, 6, 5], [4, 3], [2, 1]]'''\n",
    "\n",
    "def reverse_list(n):\n",
    " n = n[::-1]\n",
    " n = [i[::-1] for i in n]\n",
    " return n\n",
    "\n",
    "liste1=[[1, 2], [3, 4], [5, 6, 7]]\n",
    "\n",
    "\n",
    "print(reverse_list(liste1))\n"
   ]
  },
  {
   "cell_type": "code",
   "execution_count": null,
   "id": "e72e1e1a",
   "metadata": {},
   "outputs": [],
   "source": []
  }
 ],
 "metadata": {
  "kernelspec": {
   "display_name": "Python 3 (ipykernel)",
   "language": "python",
   "name": "python3"
  },
  "language_info": {
   "codemirror_mode": {
    "name": "ipython",
    "version": 3
   },
   "file_extension": ".py",
   "mimetype": "text/x-python",
   "name": "python",
   "nbconvert_exporter": "python",
   "pygments_lexer": "ipython3",
   "version": "3.11.1"
  }
 },
 "nbformat": 4,
 "nbformat_minor": 5
}
